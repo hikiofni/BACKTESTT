{
  "nbformat": 4,
  "nbformat_minor": 0,
  "metadata": {
    "colab": {
      "name": "EGLD_EMA_+_stoch_RSI_+_TRIX_1HOUR.ipynb",
      "provenance": [],
      "collapsed_sections": [],
      "include_colab_link": true
    },
    "kernelspec": {
      "name": "python3",
      "display_name": "Python 3"
    },
    "language_info": {
      "name": "python"
    }
  },
  "cells": [
    {
      "cell_type": "markdown",
      "metadata": {
        "id": "view-in-github",
        "colab_type": "text"
      },
      "source": [
        "<a href=\"https://colab.research.google.com/github/hikiofni/BACKTESTT/blob/master/EGLD_EMA_%2B_stoch_RSI_%2B_TRIX_1HOUR.ipynb\" target=\"_parent\"><img src=\"https://colab.research.google.com/assets/colab-badge.svg\" alt=\"Open In Colab\"/></a>"
      ]
    },
    {
      "cell_type": "code",
      "metadata": {
        "id": "Yfi2qr-OmHJb",
        "colab": {
          "base_uri": "https://localhost:8080/"
        },
        "outputId": "d1c833cc-793b-42ca-9d9e-3ba65c49367e"
      },
      "source": [
        "pip install python-binance"
      ],
      "execution_count": 1,
      "outputs": [
        {
          "output_type": "stream",
          "name": "stdout",
          "text": [
            "Collecting python-binance\n",
            "  Downloading python_binance-1.0.15-py2.py3-none-any.whl (63 kB)\n",
            "\u001b[K     |████████████████████████████████| 63 kB 992 kB/s \n",
            "\u001b[?25hCollecting ujson\n",
            "  Downloading ujson-4.2.0-cp37-cp37m-manylinux_2_17_x86_64.manylinux2014_x86_64.whl (214 kB)\n",
            "\u001b[K     |████████████████████████████████| 214 kB 14.5 MB/s \n",
            "\u001b[?25hRequirement already satisfied: six in /usr/local/lib/python3.7/dist-packages (from python-binance) (1.15.0)\n",
            "Requirement already satisfied: requests in /usr/local/lib/python3.7/dist-packages (from python-binance) (2.23.0)\n",
            "Collecting dateparser\n",
            "  Downloading dateparser-1.1.0-py2.py3-none-any.whl (288 kB)\n",
            "\u001b[K     |████████████████████████████████| 288 kB 30.2 MB/s \n",
            "\u001b[?25hCollecting websockets==9.1\n",
            "  Downloading websockets-9.1-cp37-cp37m-manylinux2010_x86_64.whl (103 kB)\n",
            "\u001b[K     |████████████████████████████████| 103 kB 37.8 MB/s \n",
            "\u001b[?25hCollecting aiohttp\n",
            "  Downloading aiohttp-3.8.0-cp37-cp37m-manylinux_2_5_x86_64.manylinux1_x86_64.manylinux_2_12_x86_64.manylinux2010_x86_64.whl (1.1 MB)\n",
            "\u001b[K     |████████████████████████████████| 1.1 MB 36.8 MB/s \n",
            "\u001b[?25hCollecting async-timeout<5.0,>=4.0.0a3\n",
            "  Downloading async_timeout-4.0.0-py3-none-any.whl (6.1 kB)\n",
            "Requirement already satisfied: typing-extensions>=3.7.4 in /usr/local/lib/python3.7/dist-packages (from aiohttp->python-binance) (3.10.0.2)\n",
            "Collecting asynctest==0.13.0\n",
            "  Downloading asynctest-0.13.0-py3-none-any.whl (26 kB)\n",
            "Collecting yarl<2.0,>=1.0\n",
            "  Downloading yarl-1.7.2-cp37-cp37m-manylinux_2_5_x86_64.manylinux1_x86_64.manylinux_2_12_x86_64.manylinux2010_x86_64.whl (271 kB)\n",
            "\u001b[K     |████████████████████████████████| 271 kB 45.2 MB/s \n",
            "\u001b[?25hCollecting frozenlist>=1.1.1\n",
            "  Downloading frozenlist-1.2.0-cp37-cp37m-manylinux_2_5_x86_64.manylinux1_x86_64.manylinux_2_12_x86_64.manylinux2010_x86_64.whl (192 kB)\n",
            "\u001b[K     |████████████████████████████████| 192 kB 59.9 MB/s \n",
            "\u001b[?25hRequirement already satisfied: attrs>=17.3.0 in /usr/local/lib/python3.7/dist-packages (from aiohttp->python-binance) (21.2.0)\n",
            "Requirement already satisfied: charset-normalizer<3.0,>=2.0 in /usr/local/lib/python3.7/dist-packages (from aiohttp->python-binance) (2.0.7)\n",
            "Collecting aiosignal>=1.1.2\n",
            "  Downloading aiosignal-1.2.0-py3-none-any.whl (8.2 kB)\n",
            "Collecting multidict<7.0,>=4.5\n",
            "  Downloading multidict-5.2.0-cp37-cp37m-manylinux_2_5_x86_64.manylinux1_x86_64.manylinux_2_12_x86_64.manylinux2010_x86_64.whl (160 kB)\n",
            "\u001b[K     |████████████████████████████████| 160 kB 47.7 MB/s \n",
            "\u001b[?25hRequirement already satisfied: idna>=2.0 in /usr/local/lib/python3.7/dist-packages (from yarl<2.0,>=1.0->aiohttp->python-binance) (2.10)\n",
            "Requirement already satisfied: tzlocal in /usr/local/lib/python3.7/dist-packages (from dateparser->python-binance) (1.5.1)\n",
            "Requirement already satisfied: pytz in /usr/local/lib/python3.7/dist-packages (from dateparser->python-binance) (2018.9)\n",
            "Requirement already satisfied: python-dateutil in /usr/local/lib/python3.7/dist-packages (from dateparser->python-binance) (2.8.2)\n",
            "Requirement already satisfied: regex!=2019.02.19,!=2021.8.27 in /usr/local/lib/python3.7/dist-packages (from dateparser->python-binance) (2019.12.20)\n",
            "Requirement already satisfied: certifi>=2017.4.17 in /usr/local/lib/python3.7/dist-packages (from requests->python-binance) (2021.10.8)\n",
            "Requirement already satisfied: urllib3!=1.25.0,!=1.25.1,<1.26,>=1.21.1 in /usr/local/lib/python3.7/dist-packages (from requests->python-binance) (1.24.3)\n",
            "Requirement already satisfied: chardet<4,>=3.0.2 in /usr/local/lib/python3.7/dist-packages (from requests->python-binance) (3.0.4)\n",
            "Installing collected packages: multidict, frozenlist, yarl, asynctest, async-timeout, aiosignal, websockets, ujson, dateparser, aiohttp, python-binance\n",
            "Successfully installed aiohttp-3.8.0 aiosignal-1.2.0 async-timeout-4.0.0 asynctest-0.13.0 dateparser-1.1.0 frozenlist-1.2.0 multidict-5.2.0 python-binance-1.0.15 ujson-4.2.0 websockets-9.1 yarl-1.7.2\n"
          ]
        }
      ]
    },
    {
      "cell_type": "code",
      "metadata": {
        "id": "GSVP99iMmTt4",
        "colab": {
          "base_uri": "https://localhost:8080/"
        },
        "outputId": "6d34b27b-c36b-4506-969e-ae4da7647625"
      },
      "source": [
        "pip install ta"
      ],
      "execution_count": 2,
      "outputs": [
        {
          "output_type": "stream",
          "name": "stdout",
          "text": [
            "Collecting ta\n",
            "  Downloading ta-0.7.0.tar.gz (25 kB)\n",
            "Requirement already satisfied: numpy in /usr/local/lib/python3.7/dist-packages (from ta) (1.19.5)\n",
            "Requirement already satisfied: pandas in /usr/local/lib/python3.7/dist-packages (from ta) (1.1.5)\n",
            "Requirement already satisfied: pytz>=2017.2 in /usr/local/lib/python3.7/dist-packages (from pandas->ta) (2018.9)\n",
            "Requirement already satisfied: python-dateutil>=2.7.3 in /usr/local/lib/python3.7/dist-packages (from pandas->ta) (2.8.2)\n",
            "Requirement already satisfied: six>=1.5 in /usr/local/lib/python3.7/dist-packages (from python-dateutil>=2.7.3->pandas->ta) (1.15.0)\n",
            "Building wheels for collected packages: ta\n",
            "  Building wheel for ta (setup.py) ... \u001b[?25l\u001b[?25hdone\n",
            "  Created wheel for ta: filename=ta-0.7.0-py3-none-any.whl size=28718 sha256=d2d9f5ee2dbc6c4f9d357f753a02838ad2a38c7b7b25a9080aaafa59cec7fbe7\n",
            "  Stored in directory: /root/.cache/pip/wheels/5e/74/e0/72395003bd1d3c8f3f5860c2d180ff15699e47a2733d8ebd38\n",
            "Successfully built ta\n",
            "Installing collected packages: ta\n",
            "Successfully installed ta-0.7.0\n"
          ]
        }
      ]
    },
    {
      "cell_type": "markdown",
      "metadata": {
        "id": "XwM1VV4d2V-R"
      },
      "source": [
        "<h1>Import Dataset</h1>"
      ]
    },
    {
      "cell_type": "code",
      "metadata": {
        "colab": {
          "base_uri": "https://localhost:8080/"
        },
        "id": "1F0pok5BmY3X",
        "outputId": "b0a9c501-7d17-40ed-8eb3-59e0bb177388"
      },
      "source": [
        "import pandas as pd\n",
        "from binance.client import Client\n",
        "import ta\n",
        "import matplotlib.pyplot as plt\n",
        "import numpy as np\n",
        "\n",
        "client = Client()\n",
        "pairName = \"EGLDUSDT\"\n",
        "\n",
        "\n",
        "klinesT = client.get_historical_klines(pairName, Client.KLINE_INTERVAL_1HOUR, \"5 july 2017\")\n",
        "\n",
        "df = pd.DataFrame(klinesT, columns = ['timestamp', 'open', 'high', 'low', 'close', 'volume', 'close_time', 'quote_av', 'trades', 'tb_base_av', 'tb_quote_av', 'ignore' ])\n",
        "df['close'] = pd.to_numeric(df['close'])\n",
        "df['high'] = pd.to_numeric(df['high'])\n",
        "df['low'] = pd.to_numeric(df['low'])\n",
        "df['open'] = pd.to_numeric(df['open'])\n",
        "\n",
        "del df['ignore']\n",
        "del df['close_time']\n",
        "del df['quote_av']\n",
        "del df['trades']\n",
        "del df['tb_base_av']\n",
        "del df['tb_quote_av']\n",
        "\n",
        "df = df.set_index(df['timestamp'])\n",
        "df.index = pd.to_datetime(df.index, unit='ms')\n",
        "del df['timestamp']\n",
        "print(df)"
      ],
      "execution_count": 3,
      "outputs": [
        {
          "output_type": "stream",
          "name": "stdout",
          "text": [
            "                        open     high      low    close           volume\n",
            "timestamp                                                               \n",
            "2020-09-03 03:00:00   19.710   35.000   19.710   23.640  230806.88500000\n",
            "2020-09-03 04:00:00   23.601   24.261   22.150   22.920   73034.90200000\n",
            "2020-09-03 05:00:00   22.918   25.102   22.810   24.217   85861.99100000\n",
            "2020-09-03 06:00:00   24.178   24.300   22.919   23.484   37018.33500000\n",
            "2020-09-03 07:00:00   23.482   23.800   20.975   22.801   58391.89900000\n",
            "...                      ...      ...      ...      ...              ...\n",
            "2021-11-10 14:00:00  337.820  338.700  333.440  334.760   13489.75040000\n",
            "2021-11-10 15:00:00  334.820  336.130  332.440  335.420    5870.93000000\n",
            "2021-11-10 16:00:00  335.440  337.500  334.530  334.790    4672.16000000\n",
            "2021-11-10 17:00:00  334.720  334.740  327.370  331.240   15925.09000000\n",
            "2021-11-10 18:00:00  331.400  331.660  329.030  330.340    6617.42000000\n",
            "\n",
            "[10390 rows x 5 columns]\n"
          ]
        }
      ]
    },
    {
      "cell_type": "markdown",
      "metadata": {
        "id": "-1iFHBre2Suk"
      },
      "source": [
        "<h1>Backtest Execution</h1>"
      ]
    },
    {
      "cell_type": "markdown",
      "metadata": {
        "id": "uDzxMm7APl33"
      },
      "source": [
        "Create Indicators"
      ]
    },
    {
      "cell_type": "markdown",
      "metadata": {
        "id": "n6R056JfPpXF"
      },
      "source": [
        "Make backtest"
      ]
    },
    {
      "cell_type": "code",
      "metadata": {
        "id": "q9xE6FZenTyC",
        "colab": {
          "base_uri": "https://localhost:8080/",
          "height": 1000
        },
        "outputId": "8f46bca8-7452-4942-a270-6fbf5d13eb0d"
      },
      "source": [
        "dfTest = df['2019-01-25':]\n",
        "\n",
        "# dfTest['histo_macd']=ta.trend.macd_diff(dfTest['close'], 26, 12, 9)\n",
        "dfTest['EMA28']=ta.trend.ema_indicator(dfTest['close'], 25)\n",
        "dfTest['EMA48']=ta.trend.ema_indicator(dfTest['close'], 60)\n",
        "trixLength = 8\n",
        "trixSignal = 17\n",
        "dfTest['TRIX'] = ta.trend.ema_indicator(ta.trend.ema_indicator(ta.trend.ema_indicator(close=df['close'], window=trixLength), window=trixLength), window=trixLength)\n",
        "dfTest['TRIX_PCT'] = dfTest[\"TRIX\"].pct_change()*100\n",
        "dfTest['TRIX_SIGNAL'] = ta.trend.sma_indicator(dfTest['TRIX_PCT'],trixSignal)\n",
        "dfTest['TRIX_HISTO'] = dfTest['TRIX_PCT'] - dfTest['TRIX_SIGNAL']\n",
        "# dfTest['MACD']=ta.trend.macd(dfTest['close'], 26, 12, 9)\n",
        "# dfTest['MACD_SIGNAL']=ta.trend.macd_signal(dfTest['close'], 26, 12, 9)\n",
        "# dfTest['MACD_HISTO']= dfTest['MACD'] - dfTest['MACD_SIGNAL']\n",
        "# dfTest['EMA8']=ta.trend.ema_indicator(dfTest['close'], 8)\n",
        "# dfTest['EMA14']=ta.trend.ema_indicator(dfTest['close'], 14)\n",
        "# dfTest['EMA50']=ta.trend.ema_indicator(dfTest['close'], 50)\n",
        "dfTest['STOCH_RSI']=ta.momentum.stochrsi(dfTest['close'], window=15)\n",
        "top = 0.88\n",
        "bottom = 0.1\n",
        "# dfTest['MEAN_STOCH_RSI'] = ta.trend.sma_indicator(dfTest['STOCH_RSI'], 3)\n",
        "# dfTest['SIGNAL_MEAN_STOCH_RSI'] = ta.trend.sma_indicator(dfTest['MEAN_STOCH_RSI'], 3)\n",
        "dfTest\n",
        "\n",
        "dt = None\n",
        "dt = pd.DataFrame(columns = ['date','position', 'price', 'frais' ,'fiat', 'coins', 'wallet', 'drawBack'])\n",
        "\n",
        "usdt = 1000\n",
        "initalWallet = usdt\n",
        "coin = 0\n",
        "wallet = 1000\n",
        "lastAth = 0\n",
        "lastIndex = df.first_valid_index()\n",
        "fee = 0.0007\n",
        "\n",
        "for index, row in dfTest.iterrows():\n",
        "  #Buy\n",
        "  if row['TRIX_HISTO'] > 0 and row['EMA28'] > row['EMA48'] and row['STOCH_RSI'] <= top and  usdt > 0:\n",
        "    coin = usdt / row['close']\n",
        "    frais = fee * coin\n",
        "    coin = coin - frais\n",
        "    usdt = 0\n",
        "    wallet = coin * row['close']\n",
        "    if wallet > lastAth:\n",
        "      lastAth = wallet\n",
        "    # print(\"Buy COIN at\",df['close'][index],'$ the', index)\n",
        "    myrow = {'date': index,'position': \"Buy\",'price': row['close'],'frais': frais,'fiat': usdt,'coins': coin,'wallet': wallet,'drawBack':(wallet-lastAth)/lastAth}\n",
        "    dt = dt.append(myrow,ignore_index=True)\n",
        "\n",
        "  #Sell\n",
        "  if row['TRIX_HISTO'] < 0 and row['EMA28'] < row['EMA48'] and row['STOCH_RSI'] >= bottom and coin > 0:\n",
        "    usdt = coin * row['close']\n",
        "    frais = fee * usdt\n",
        "    usdt = usdt - frais\n",
        "    coin = 0\n",
        "    wallet = usdt\n",
        "    if wallet > lastAth:\n",
        "      lastAth = wallet\n",
        "    # print(\"Sell COIN at\",df['close'][index],'$ the', index)\n",
        "    myrow = {'date': index,'position': \"Sell\",'price': row['close'],'frais': frais,'fiat': usdt,'coins': coin,'wallet': wallet,'drawBack':(wallet-lastAth)/lastAth}\n",
        "    dt = dt.append(myrow,ignore_index=True)\n",
        "  \n",
        "  lastIndex = index\n",
        "\n",
        "#///////////////////////////////////////\n",
        "\n",
        "print(\"\\n=======RESULTAT=========\\n\")\n",
        "\n",
        "print(\"Pair Symbol :\",pairName,\"\\n\")\n",
        "\n",
        "print(\"Period : [\" + str(dfTest.index[0]) + \"] -> [\" +str(dfTest.index[len(dfTest)-1]) + \"]\\n\")\n",
        "dt = dt.set_index(dt['date'])\n",
        "dt.index = pd.to_datetime(dt.index)\n",
        "dt['resultat'] = dt['wallet'].diff()\n",
        "dt['resultat%'] = dt['wallet'].pct_change()*100\n",
        "dt.loc[dt['position']=='Buy','resultat'] = None\n",
        "dt.loc[dt['position']=='Buy','resultat%'] = None\n",
        "\n",
        "dt['tradeIs'] = ''\n",
        "dt.loc[dt['resultat']>0,'tradeIs'] = 'Good'\n",
        "dt.loc[dt['resultat']<=0,'tradeIs'] = 'Bad'\n",
        "totalGoodTrades = dt.groupby('tradeIs')['date'].nunique()['Good']\n",
        "totalBadTrades = dt.groupby('tradeIs')['date'].nunique()['Bad']\n",
        "\n",
        "iniClose = dfTest.iloc[0]['close']\n",
        "lastClose = dfTest.iloc[len(dfTest)-1]['close']\n",
        "holdPorcentage = ((lastClose - iniClose)/iniClose) * 100\n",
        "algoPorcentage = ((wallet - initalWallet)/initalWallet) * 100\n",
        "vsHoldPorcentage = ((algoPorcentage - holdPorcentage)/holdPorcentage) * 100\n",
        "totalTrades = totalBadTrades + totalGoodTrades\n",
        "winRateRatio = (totalGoodTrades/totalTrades) * 100\n",
        "\n",
        "\n",
        "print(\"Starting balance : 1000 $\")\n",
        "print(\"Final balance :\",round(wallet,2),\"$\\n\")\n",
        "\n",
        "print(\"Performance vs US Dollar :\",round(algoPorcentage,2),\"%\")\n",
        "print(\"Buy and Hold Performence :\",round(holdPorcentage,2),\"%\")\n",
        "print(\"Performance vs Buy and Hold :\",round(vsHoldPorcentage,2),\"%\\n\")\n",
        "\n",
        "print(\"Number of negative trades : \",dt.groupby('tradeIs')['date'].nunique()['Bad'])\n",
        "print(\"Number of positive trades : \",dt.groupby('tradeIs')['date'].nunique()['Good'],)\n",
        "print(\"Trades win rate ratio :\", round(winRateRatio, 2), \"%\\n\")\n",
        "\n",
        "print(\"Average Positive Trades : \",round(dt.loc[dt['tradeIs'] == 'Good', 'resultat%'].sum()/dt.loc[dt['tradeIs'] == 'Good', 'resultat%'].count(),2),\"%\")\n",
        "print(\"Average Negative Trades : \",round(dt.loc[dt['tradeIs'] == 'Bad', 'resultat%'].sum()/dt.loc[dt['tradeIs'] == 'Bad', 'resultat%'].count(),2),\"%\\n\")\n",
        "idbest = dt.loc[dt['tradeIs'] == 'Good', 'resultat%'].idxmax()\n",
        "idworst = dt.loc[dt['tradeIs'] == 'Bad', 'resultat%'].idxmin()\n",
        "print(\"Best trade +\"+str(round(dt.loc[dt['tradeIs'] == 'Good', 'resultat%'].max(),2)),\"%, the \",dt['date'][idbest])\n",
        "print(\"Worst trade\",round(dt.loc[dt['tradeIs'] == 'Bad', 'resultat%'].min(),2),\"%, the \",dt['date'][idworst],\"\\n\")\n",
        "\n",
        "print(\"Worst drawBack\", str(100*round(dt['drawBack'].min(),2)),\"%\\n\")\n",
        "print(\"Total fee : \",round(dt['frais'].sum(),2),\"$\")\n",
        "\n",
        "dt[['wallet','price']].plot(subplots=True, figsize=(12,10))\n",
        "print('PLOT')"
      ],
      "execution_count": 43,
      "outputs": [
        {
          "output_type": "stream",
          "name": "stderr",
          "text": [
            "/usr/local/lib/python3.7/dist-packages/ipykernel_launcher.py:4: SettingWithCopyWarning: \n",
            "A value is trying to be set on a copy of a slice from a DataFrame.\n",
            "Try using .loc[row_indexer,col_indexer] = value instead\n",
            "\n",
            "See the caveats in the documentation: https://pandas.pydata.org/pandas-docs/stable/user_guide/indexing.html#returning-a-view-versus-a-copy\n",
            "  after removing the cwd from sys.path.\n",
            "/usr/local/lib/python3.7/dist-packages/ipykernel_launcher.py:5: SettingWithCopyWarning: \n",
            "A value is trying to be set on a copy of a slice from a DataFrame.\n",
            "Try using .loc[row_indexer,col_indexer] = value instead\n",
            "\n",
            "See the caveats in the documentation: https://pandas.pydata.org/pandas-docs/stable/user_guide/indexing.html#returning-a-view-versus-a-copy\n",
            "  \"\"\"\n",
            "/usr/local/lib/python3.7/dist-packages/ipykernel_launcher.py:8: SettingWithCopyWarning: \n",
            "A value is trying to be set on a copy of a slice from a DataFrame.\n",
            "Try using .loc[row_indexer,col_indexer] = value instead\n",
            "\n",
            "See the caveats in the documentation: https://pandas.pydata.org/pandas-docs/stable/user_guide/indexing.html#returning-a-view-versus-a-copy\n",
            "  \n",
            "/usr/local/lib/python3.7/dist-packages/ipykernel_launcher.py:9: SettingWithCopyWarning: \n",
            "A value is trying to be set on a copy of a slice from a DataFrame.\n",
            "Try using .loc[row_indexer,col_indexer] = value instead\n",
            "\n",
            "See the caveats in the documentation: https://pandas.pydata.org/pandas-docs/stable/user_guide/indexing.html#returning-a-view-versus-a-copy\n",
            "  if __name__ == '__main__':\n",
            "/usr/local/lib/python3.7/dist-packages/ipykernel_launcher.py:10: SettingWithCopyWarning: \n",
            "A value is trying to be set on a copy of a slice from a DataFrame.\n",
            "Try using .loc[row_indexer,col_indexer] = value instead\n",
            "\n",
            "See the caveats in the documentation: https://pandas.pydata.org/pandas-docs/stable/user_guide/indexing.html#returning-a-view-versus-a-copy\n",
            "  # Remove the CWD from sys.path while we load stuff.\n",
            "/usr/local/lib/python3.7/dist-packages/ipykernel_launcher.py:11: SettingWithCopyWarning: \n",
            "A value is trying to be set on a copy of a slice from a DataFrame.\n",
            "Try using .loc[row_indexer,col_indexer] = value instead\n",
            "\n",
            "See the caveats in the documentation: https://pandas.pydata.org/pandas-docs/stable/user_guide/indexing.html#returning-a-view-versus-a-copy\n",
            "  # This is added back by InteractiveShellApp.init_path()\n",
            "/usr/local/lib/python3.7/dist-packages/ipykernel_launcher.py:18: SettingWithCopyWarning: \n",
            "A value is trying to be set on a copy of a slice from a DataFrame.\n",
            "Try using .loc[row_indexer,col_indexer] = value instead\n",
            "\n",
            "See the caveats in the documentation: https://pandas.pydata.org/pandas-docs/stable/user_guide/indexing.html#returning-a-view-versus-a-copy\n"
          ]
        },
        {
          "output_type": "stream",
          "name": "stdout",
          "text": [
            "\n",
            "=======RESULTAT=========\n",
            "\n",
            "Pair Symbol : EGLDUSDT \n",
            "\n",
            "Period : [2020-09-03 03:00:00] -> [2021-11-10 18:00:00]\n",
            "\n",
            "Starting balance : 1000 $\n",
            "Final balance : 95364.83 $\n",
            "\n",
            "Performance vs US Dollar : 9436.48 %\n",
            "Buy and Hold Performence : 1297.38 %\n",
            "Performance vs Buy and Hold : 627.35 %\n",
            "\n",
            "Number of negative trades :  26\n",
            "Number of positive trades :  28\n",
            "Trades win rate ratio : 51.85 %\n",
            "\n",
            "Average Positive Trades :  24.36 %\n",
            "Average Negative Trades :  -3.13 %\n",
            "\n",
            "Best trade +145.54 %, the  2021-02-11 20:00:00\n",
            "Worst trade -12.96 %, the  2021-06-08 03:00:00 \n",
            "\n",
            "Worst drawBack -19.0 %\n",
            "\n",
            "Total fee :  1190.66 $\n",
            "PLOT\n"
          ]
        },
        {
          "output_type": "display_data",
          "data": {
            "image/png": "[encoded data removed]",
            "text/plain": [
              "<Figure size 864x720 with 2 Axes>"
            ]
          },
          "metadata": {
            "needs_background": "light"
          }
        }
      ]
    },
    {
      "cell_type": "markdown",
      "metadata": {
        "id": "CuuQB46p2L6T"
      },
      "source": [
        "<h1>Backtest Result</h1>"
      ]
    }
  ]
}